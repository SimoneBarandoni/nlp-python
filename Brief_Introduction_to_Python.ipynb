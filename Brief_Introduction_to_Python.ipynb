{
 "cells": [
  {
   "cell_type": "markdown",
   "metadata": {
    "id": "sSIeFyaa1d0A"
   },
   "source": [
    "# Brief introduction to Python"
   ]
  },
  {
   "cell_type": "markdown",
   "metadata": {
    "id": "yh2l-xC11d0D"
   },
   "source": [
    " ### Some differences with other languages"
   ]
  },
  {
   "cell_type": "markdown",
   "metadata": {
    "id": "Jb2BGgEW1d0P"
   },
   "source": [
    "- Semicolons are not necessary to separate instructions.<br>\n",
    "- Indentation is not just for readability: blocks are delimited with indentation, not with braces.<br>\n",
    "- You do not need to declare the type of variables.<br>\n",
    "- You can even change the type of a variable assigning a new value to it"
   ]
  },
  {
   "cell_type": "code",
   "execution_count": null,
   "metadata": {
    "id": "Wsyxg1MO1d0W"
   },
   "outputs": [],
   "source": [
    "# this is a comment\n",
    "a = 1\n",
    "b = 2\n",
    "c = a + b\n",
    "print(\"Variable c is assignet to:\", c)\n",
    "print(\"Variable c is type:\", type(c))\n",
    "\n",
    "c = \"hello\"\n",
    "print(\"Variable c is assignet to:\", c)\n",
    "print(\"Variable c is type:\", type(c))"
   ]
  },
  {
   "cell_type": "code",
   "execution_count": null,
   "metadata": {},
   "outputs": [],
   "source": [
    "# you can convert a number into a string and viceversa\n",
    "a = 5\n",
    "print(type(a))\n",
    "\n",
    "a = str(a)\n",
    "print(type(a))\n",
    "\n",
    "a = int(a)\n",
    "print(type(a))"
   ]
  },
  {
   "cell_type": "markdown",
   "metadata": {
    "id": "pSrfGjvM1d3b"
   },
   "source": [
    "\n",
    "## Lists\n",
    "A list is used to store multiple items in a single variable and it is represented with square brackets:"
   ]
  },
  {
   "cell_type": "code",
   "execution_count": null,
   "metadata": {
    "id": "gAzWplMc1d3b"
   },
   "outputs": [],
   "source": [
    "a = []\n",
    "type(a)"
   ]
  },
  {
   "cell_type": "markdown",
   "metadata": {},
   "source": [
    "Lists are similar to arrays, but they can contain elements of different data types, even other lists; furthermore, they are easy to modify and they can be printed without an explicit loop."
   ]
  },
  {
   "cell_type": "code",
   "execution_count": null,
   "metadata": {
    "id": "eLnECSu41d3d"
   },
   "outputs": [],
   "source": [
    "a = [1, 2, 3]\n",
    "# it can contain also mixed types\n",
    "a = ['a', 1, 2]"
   ]
  },
  {
   "cell_type": "code",
   "execution_count": null,
   "metadata": {
    "id": "UqHa6d-kGmIi"
   },
   "outputs": [],
   "source": [
    "a"
   ]
  },
  {
   "cell_type": "markdown",
   "metadata": {
    "id": "JKQA5u4_1d3h"
   },
   "source": [
    "The items of a string are accessible through the index"
   ]
  },
  {
   "cell_type": "code",
   "execution_count": null,
   "metadata": {
    "id": "3tpw-1OF1d3h"
   },
   "outputs": [],
   "source": [
    "a[0] # indexes start from zero"
   ]
  },
  {
   "cell_type": "code",
   "execution_count": null,
   "metadata": {
    "id": "cBSqq_lT1d3l"
   },
   "outputs": [],
   "source": [
    "a[2]"
   ]
  },
  {
   "cell_type": "code",
   "execution_count": null,
   "metadata": {
    "id": "dkaF4k1L1d3o"
   },
   "outputs": [],
   "source": [
    "# length of a string\n",
    "len(a)"
   ]
  },
  {
   "cell_type": "markdown",
   "metadata": {
    "id": "7Ezta5km1d3t"
   },
   "source": [
    "#### Slicing\n",
    "To select subparts of sequences"
   ]
  },
  {
   "cell_type": "code",
   "execution_count": null,
   "metadata": {
    "id": "tXMBB2XH1d3t"
   },
   "outputs": [],
   "source": [
    "a = ['a', 'b', 'c', 'd', 'e']"
   ]
  },
  {
   "cell_type": "code",
   "execution_count": null,
   "metadata": {
    "id": "5HBdQuFR1d3w"
   },
   "outputs": [],
   "source": [
    "a[2:4] # from index 2 to index 4 (excluding 4)"
   ]
  },
  {
   "cell_type": "code",
   "execution_count": null,
   "metadata": {
    "id": "4vfyAlMQ1d31"
   },
   "outputs": [],
   "source": [
    "a"
   ]
  },
  {
   "cell_type": "code",
   "execution_count": null,
   "metadata": {
    "id": "O4u4gx5e1d33"
   },
   "outputs": [],
   "source": [
    "a[:2] # from start to index 2 (excluding 2)"
   ]
  },
  {
   "cell_type": "code",
   "execution_count": null,
   "metadata": {
    "id": "1DTlNiVBIr-P"
   },
   "outputs": [],
   "source": [
    "a[2:] # from index 2 to the end of the list"
   ]
  },
  {
   "cell_type": "markdown",
   "metadata": {
    "id": "2aTzDmtE1d34"
   },
   "source": [
    "## `in` operator\n",
    "To check for the presence of a value in a sequence"
   ]
  },
  {
   "cell_type": "code",
   "execution_count": null,
   "metadata": {
    "id": "kR6lLrGV1d34"
   },
   "outputs": [],
   "source": [
    "'c' in a"
   ]
  },
  {
   "cell_type": "code",
   "execution_count": null,
   "metadata": {
    "id": "ywyFi_kj1d36"
   },
   "outputs": [],
   "source": [
    "'w' in a"
   ]
  },
  {
   "cell_type": "markdown",
   "metadata": {
    "id": "_ogGgn4z1d3_"
   },
   "source": [
    "You can concatenate two lists using the `+` operator"
   ]
  },
  {
   "cell_type": "code",
   "execution_count": null,
   "metadata": {
    "id": "A8buh97M1d3_"
   },
   "outputs": [],
   "source": [
    "b = [5,6] + [1,2,3,4]\n",
    "b    "
   ]
  },
  {
   "cell_type": "markdown",
   "metadata": {
    "id": "EYt2TRjm1d4R"
   },
   "source": [
    "You can also append values at the end of a list with `append`"
   ]
  },
  {
   "cell_type": "code",
   "execution_count": null,
   "metadata": {
    "id": "1rYUpFor1d4S"
   },
   "outputs": [],
   "source": [
    "a = [1,2,3]\n",
    "a.append(4)\n",
    "a"
   ]
  },
  {
   "cell_type": "markdown",
   "metadata": {
    "id": "Z4mrPRKV1d4U"
   },
   "source": [
    "With `insert` you can specify the position in the list"
   ]
  },
  {
   "cell_type": "code",
   "execution_count": null,
   "metadata": {
    "id": "w-Hz5O5g1d4U"
   },
   "outputs": [],
   "source": [
    "a = [1,2,3]\n",
    "a.insert(2, \"a\")\n",
    "a"
   ]
  },
  {
   "cell_type": "markdown",
   "metadata": {
    "id": "szHsvffQ1d40"
   },
   "source": [
    "## More about Strings"
   ]
  },
  {
   "cell_type": "code",
   "execution_count": null,
   "metadata": {
    "id": "uiIrpp2E1d42"
   },
   "outputs": [],
   "source": [
    "s = \"hello world\""
   ]
  },
  {
   "cell_type": "markdown",
   "metadata": {},
   "source": [
    "You can imagine them as lists of characters"
   ]
  },
  {
   "cell_type": "code",
   "execution_count": null,
   "metadata": {},
   "outputs": [],
   "source": [
    "s[0]"
   ]
  },
  {
   "cell_type": "code",
   "execution_count": null,
   "metadata": {},
   "outputs": [],
   "source": [
    "s[0:7]"
   ]
  },
  {
   "cell_type": "markdown",
   "metadata": {},
   "source": [
    "But they are immutable"
   ]
  },
  {
   "cell_type": "code",
   "execution_count": null,
   "metadata": {},
   "outputs": [],
   "source": [
    "# error\n",
    "s[0] = \"w\""
   ]
  },
  {
   "cell_type": "code",
   "execution_count": null,
   "metadata": {},
   "outputs": [],
   "source": [
    "# error\n",
    "s.append(\"a\")"
   ]
  },
  {
   "cell_type": "markdown",
   "metadata": {
    "id": "Rq6ydb6b1d43"
   },
   "source": [
    "You can use the `+` and `in` operators"
   ]
  },
  {
   "cell_type": "code",
   "execution_count": null,
   "metadata": {
    "id": "yCwVTm4X1d44"
   },
   "outputs": [],
   "source": [
    "s = s + \"!!!\"\n",
    "s"
   ]
  },
  {
   "cell_type": "code",
   "execution_count": null,
   "metadata": {
    "id": "i-c0L_aA1d45"
   },
   "outputs": [],
   "source": [
    "\"!\" in s"
   ]
  },
  {
   "cell_type": "markdown",
   "metadata": {
    "id": "G1hhLD1v1d5i"
   },
   "source": [
    "## Dictionaries\n",
    "\n",
    "Dictionaries define a mapping between a set of keys and values. Represented with braces `{ }`"
   ]
  },
  {
   "cell_type": "code",
   "execution_count": null,
   "metadata": {
    "id": "eztbRN6o1d5i"
   },
   "outputs": [],
   "source": [
    "ages = {}\n",
    "type(ages)"
   ]
  },
  {
   "cell_type": "markdown",
   "metadata": {},
   "source": [
    "The following dictionary has a set of string as keys: Mark, Giulia and Vito\n",
    "To each of them a value is assigned. In this case, their age.\n",
    "The value can be anything, even another dictionary, a list, etc."
   ]
  },
  {
   "cell_type": "code",
   "execution_count": null,
   "metadata": {},
   "outputs": [],
   "source": [
    "ages = {\"Mark\": 22, \"Giulia\": 30, \"Vito\": 28}"
   ]
  },
  {
   "cell_type": "markdown",
   "metadata": {
    "id": "GxhT5TGP1d5l"
   },
   "source": [
    "You can access the values through the key, similarly to list, where you access the values through the index"
   ]
  },
  {
   "cell_type": "code",
   "execution_count": null,
   "metadata": {},
   "outputs": [],
   "source": [
    "# square brackets!\n",
    "ages[\"Vito\"]"
   ]
  },
  {
   "cell_type": "markdown",
   "metadata": {},
   "source": [
    "Dictionaries do not have indexes"
   ]
  },
  {
   "cell_type": "code",
   "execution_count": null,
   "metadata": {},
   "outputs": [],
   "source": [
    "# error\n",
    "ages[0]"
   ]
  },
  {
   "cell_type": "markdown",
   "metadata": {},
   "source": [
    "You can check the presence of a key"
   ]
  },
  {
   "cell_type": "code",
   "execution_count": null,
   "metadata": {
    "id": "zBmed4em1d5o"
   },
   "outputs": [],
   "source": [
    "\"Irene\" in ages"
   ]
  },
  {
   "cell_type": "markdown",
   "metadata": {},
   "source": [
    "But you can't try to access a non-existing key"
   ]
  },
  {
   "cell_type": "code",
   "execution_count": null,
   "metadata": {
    "id": "eYsD1_TX1d5q"
   },
   "outputs": [],
   "source": [
    "# error\n",
    "ages[\"Irene\"] "
   ]
  },
  {
   "cell_type": "markdown",
   "metadata": {},
   "source": [
    "You can add new couples **key:values** with simple assignment. No `add()`, `append()`, or other functions are needed"
   ]
  },
  {
   "cell_type": "code",
   "execution_count": null,
   "metadata": {
    "id": "DqbfbDan1d5r"
   },
   "outputs": [],
   "source": [
    " ages"
   ]
  },
  {
   "cell_type": "code",
   "execution_count": null,
   "metadata": {
    "id": "QbjjN9T91d5s"
   },
   "outputs": [],
   "source": [
    "ages[\"Irene\"] = 21 "
   ]
  },
  {
   "cell_type": "code",
   "execution_count": null,
   "metadata": {
    "id": "6wQPkYEA1d5t"
   },
   "outputs": [],
   "source": [
    "ages"
   ]
  },
  {
   "cell_type": "markdown",
   "metadata": {},
   "source": [
    "But keys are unique. The following line will not add a new `\"Irene\":35`: the value of the already present \"Irene\" will be re-assigned, from 21 to 35"
   ]
  },
  {
   "cell_type": "code",
   "execution_count": null,
   "metadata": {},
   "outputs": [],
   "source": [
    "ages[\"Irene\"] = 35  "
   ]
  },
  {
   "cell_type": "code",
   "execution_count": null,
   "metadata": {},
   "outputs": [],
   "source": [
    "ages"
   ]
  },
  {
   "cell_type": "code",
   "execution_count": null,
   "metadata": {},
   "outputs": [],
   "source": [
    "# the keys, values, and items methods returns objects that act as list views on the keys, \n",
    "# values, and key-value pairs in the dictionary\n",
    "keys = ages.keys()\n",
    "values = ages.values()\n",
    "items = ages.items()"
   ]
  },
  {
   "cell_type": "code",
   "execution_count": null,
   "metadata": {
    "id": "uaog9ZBu1d5u"
   },
   "outputs": [],
   "source": [
    "keys"
   ]
  },
  {
   "cell_type": "code",
   "execution_count": null,
   "metadata": {
    "id": "lGMkbzC41d5v"
   },
   "outputs": [],
   "source": [
    "values"
   ]
  },
  {
   "cell_type": "code",
   "execution_count": null,
   "metadata": {
    "id": "NJgHkCMY1d5x"
   },
   "outputs": [],
   "source": [
    "items"
   ]
  },
  {
   "cell_type": "markdown",
   "metadata": {
    "id": "pRBHIMkT1d54"
   },
   "source": [
    "## IF ELIF ELSE"
   ]
  },
  {
   "cell_type": "markdown",
   "metadata": {
    "id": "rvyatk0_1d55"
   },
   "source": [
    "Mind that indentation is fundamental to delimit blocks. <br>\n",
    "In the following code, the second **`if`** is not at the same level of the first one. It can be reached only if the initial condition is satisfied."
   ]
  },
  {
   "cell_type": "code",
   "execution_count": null,
   "metadata": {
    "id": "ILoRcKrA1d58"
   },
   "outputs": [],
   "source": [
    "a = 3\n",
    "if a >= 0:\n",
    "    print(\"a is positive or zero\")\n",
    "    if a > 0:\n",
    "        print(\"a is positive\")"
   ]
  },
  {
   "cell_type": "markdown",
   "metadata": {},
   "source": [
    "In the following code, `elif` and `else` are on the same level of the first `if`."
   ]
  },
  {
   "cell_type": "code",
   "execution_count": null,
   "metadata": {},
   "outputs": [],
   "source": [
    "a = -1\n",
    "if a > 0:\n",
    "    print(\"a is positive\")\n",
    "elif (a == 0):\n",
    "    print(\"a is zero\")\n",
    "else:\n",
    "    print(\"a is negative\")"
   ]
  },
  {
   "cell_type": "markdown",
   "metadata": {
    "id": "qruUbUFE1ije"
   },
   "source": [
    "### while loops work as in other programming languages"
   ]
  },
  {
   "cell_type": "code",
   "execution_count": null,
   "metadata": {
    "id": "wCD8qacy1ijf"
   },
   "outputs": [],
   "source": [
    "count = 10\n",
    "while count > 0:\n",
    "    print(count, 'more to go')\n",
    "    count -= 1\n",
    "print('done!')"
   ]
  },
  {
   "cell_type": "markdown",
   "metadata": {
    "id": "Wb6rwQro1ijl"
   },
   "source": [
    "## `for` loops "
   ]
  },
  {
   "cell_type": "markdown",
   "metadata": {
    "id": "dbiIDCZM1ijm"
   },
   "source": [
    "**`for`** loops perform iteration on an **iterable object**\n",
    "assigning at each step the value returned by the iterator\n",
    "to the variable named after the `for` keyword.<br>\n",
    "\n",
    "Iterable objects are lists, dictionaries, and even strings."
   ]
  },
  {
   "cell_type": "code",
   "execution_count": null,
   "metadata": {
    "id": "N7qkbRt11ijm"
   },
   "outputs": [],
   "source": [
    "for letter in 'ciao':\n",
    "    print(letter)"
   ]
  },
  {
   "cell_type": "code",
   "execution_count": null,
   "metadata": {},
   "outputs": [],
   "source": [
    "a = [\"h\",\"e\",\"l\",\"l\",\"o\",1]\n",
    "for i in a:\n",
    "    print(i)"
   ]
  },
  {
   "cell_type": "markdown",
   "metadata": {},
   "source": [
    "The iterator takes the elements of the list, one by one. It does not correspond to the index of the list."
   ]
  },
  {
   "cell_type": "code",
   "execution_count": null,
   "metadata": {},
   "outputs": [],
   "source": [
    "a = [\"h\",\"e\",\"l\",\"l\",\"o\",1]\n",
    "for i in a:\n",
    "    # error\n",
    "    # we are trying to access the elements of the list by giving the 'i' as index. But 'i' takes the elements\n",
    "    # of the list, which are strings\n",
    "    print(a[i])"
   ]
  },
  {
   "cell_type": "markdown",
   "metadata": {},
   "source": [
    "It works a bit differently with dictionaries:"
   ]
  },
  {
   "cell_type": "code",
   "execution_count": null,
   "metadata": {},
   "outputs": [],
   "source": [
    "ages = {\"Mark\": 22, \"Giulia\": 30, \"Vito\": 28}\n",
    "for i in ages:\n",
    "    print (i)"
   ]
  },
  {
   "cell_type": "markdown",
   "metadata": {},
   "source": [
    "The iterator i takes the keys of the dictionary. To print the values you need to access them:"
   ]
  },
  {
   "cell_type": "code",
   "execution_count": null,
   "metadata": {},
   "outputs": [],
   "source": [
    "for i in ages:\n",
    "    print(i, ages[i])"
   ]
  },
  {
   "cell_type": "markdown",
   "metadata": {
    "id": "8akoD5201ijy"
   },
   "source": [
    "Another way to use **`for`** is with **`range`**, a function that creates an iterator that\n",
    "returns the numbers from a start value (default: zero)\n",
    "to an end value (required)"
   ]
  },
  {
   "cell_type": "code",
   "execution_count": null,
   "metadata": {
    "id": "U_4g98wQ1ijz"
   },
   "outputs": [],
   "source": [
    "for i in range(5):\n",
    "    print(i)"
   ]
  },
  {
   "cell_type": "markdown",
   "metadata": {},
   "source": [
    "Using **`range`** the iterator is a number, so if you want to print the content of a list you need to access the elements"
   ]
  },
  {
   "cell_type": "code",
   "execution_count": null,
   "metadata": {
    "id": "dVk2a55d1ij2"
   },
   "outputs": [],
   "source": [
    "a = [\"h\",\"e\",\"l\",\"l\",\"o\",1]\n",
    "for i in range(0, len(a)):\n",
    "    #print(i)    # this would print the numbers from 0 to 5\n",
    "    print(a[i])  # element of the list"
   ]
  },
  {
   "cell_type": "markdown",
   "metadata": {},
   "source": [
    "Note that if you iterate with **`for i in list:`**, you will not be able to modify the element of the list through **`i`**, because you will modify the value assigned to the iterator **`i`**, not the real list."
   ]
  },
  {
   "cell_type": "code",
   "execution_count": null,
   "metadata": {},
   "outputs": [],
   "source": [
    "a = [1, 2, 3]\n",
    "for i in a:\n",
    "    i = i + 1\n",
    "a    "
   ]
  },
  {
   "cell_type": "markdown",
   "metadata": {},
   "source": [
    "If you want to modify a list, you need to access its elements through the index and the syntax `list[index]`"
   ]
  },
  {
   "cell_type": "code",
   "execution_count": null,
   "metadata": {},
   "outputs": [],
   "source": [
    "a = [1, 2, 3]\n",
    "for i in range(len(a)):\n",
    "    a[i] = a[i] + 1\n",
    "a    "
   ]
  },
  {
   "cell_type": "markdown",
   "metadata": {
    "id": "vojZ4iXR1ikH"
   },
   "source": [
    "# Functions\n",
    "#### They work as in other programming languages\n",
    "Note that you do not need to specify the type of the arguments"
   ]
  },
  {
   "cell_type": "code",
   "execution_count": null,
   "metadata": {
    "id": "RyX1KkaM1ikJ"
   },
   "outputs": [],
   "source": [
    "def increase_list(list_1):\n",
    "    new_list = list_1\n",
    "    for i in range(len(new_list)):\n",
    "        new_list[i] += 1\n",
    "    return new_list\n",
    "\n",
    "a = [0, 1, 2, 3]\n",
    "\n",
    "a = increase_list(a)\n",
    "a"
   ]
  },
  {
   "cell_type": "markdown",
   "metadata": {},
   "source": [
    "## Python is much much more <br> \n",
    "### If you are interested, check the Official Documentation at: https://docs.python.org/3/contents.html"
   ]
  },
  {
   "cell_type": "code",
   "execution_count": null,
   "metadata": {},
   "outputs": [],
   "source": []
  }
 ],
 "metadata": {
  "colab": {
   "name": "03.1 - Introduction to Python.ipynb",
   "provenance": []
  },
  "kernelspec": {
   "display_name": "Python 3",
   "language": "python",
   "name": "python3"
  },
  "language_info": {
   "codemirror_mode": {
    "name": "ipython",
    "version": 3
   },
   "file_extension": ".py",
   "mimetype": "text/x-python",
   "name": "python",
   "nbconvert_exporter": "python",
   "pygments_lexer": "ipython3",
   "version": "3.8.8"
  }
 },
 "nbformat": 4,
 "nbformat_minor": 1
}
