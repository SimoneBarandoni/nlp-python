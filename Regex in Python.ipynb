{
 "cells": [
  {
   "cell_type": "markdown",
   "id": "64286877",
   "metadata": {},
   "source": [
    "## Regular Expressions"
   ]
  },
  {
   "cell_type": "code",
   "execution_count": 1,
   "id": "318617dd",
   "metadata": {},
   "outputs": [],
   "source": [
    "import re"
   ]
  },
  {
   "cell_type": "markdown",
   "id": "2c118277",
   "metadata": {},
   "source": [
    "#### re.search()\n",
    "Returns a Match Object if there is a match anywhere in the string"
   ]
  },
  {
   "cell_type": "code",
   "execution_count": 4,
   "id": "6a2894f6",
   "metadata": {},
   "outputs": [
    {
     "name": "stdout",
     "output_type": "stream",
     "text": [
      "Yes\n",
      "No\n"
     ]
    }
   ],
   "source": [
    "match = re.search(r'hello', \"hello world\")\n",
    "\n",
    "if match: # this means: if match exists\n",
    "    print(\"Yes\")\n",
    "else:\n",
    "    print(\"No\")\n",
    "    \n",
    "match = re.search(r'hello', \"Hello world\")\n",
    "\n",
    "if match: \n",
    "    print(\"Yes\")\n",
    "else:\n",
    "    print(\"No\")"
   ]
  },
  {
   "cell_type": "markdown",
   "id": "2407fbb7",
   "metadata": {},
   "source": [
    "#### re.findall()\n",
    "Returns a list containing all matches"
   ]
  },
  {
   "cell_type": "code",
   "execution_count": 5,
   "id": "394fb33f",
   "metadata": {},
   "outputs": [
    {
     "name": "stdout",
     "output_type": "stream",
     "text": [
      "['hello']\n"
     ]
    }
   ],
   "source": [
    "match = re.findall(r'hello', \"hello world\")\n",
    "\n",
    "print(match)"
   ]
  },
  {
   "cell_type": "code",
   "execution_count": 6,
   "id": "e8cad6f9",
   "metadata": {},
   "outputs": [
    {
     "name": "stdout",
     "output_type": "stream",
     "text": [
      "['o', 'o']\n"
     ]
    }
   ],
   "source": [
    "match = re.findall(r'o', \"hello world\")\n",
    "\n",
    "print(match)"
   ]
  },
  {
   "cell_type": "code",
   "execution_count": 7,
   "id": "aa410aa6",
   "metadata": {},
   "outputs": [
    {
     "name": "stdout",
     "output_type": "stream",
     "text": [
      "[]\n"
     ]
    }
   ],
   "source": [
    "match = re.findall(r'a', \"hello world\")\n",
    "\n",
    "print(match)"
   ]
  },
  {
   "cell_type": "markdown",
   "id": "51e2a02e",
   "metadata": {},
   "source": [
    "### Anchors: start and end of strings"
   ]
  },
  {
   "cell_type": "code",
   "execution_count": 8,
   "id": "bac813ba",
   "metadata": {},
   "outputs": [
    {
     "name": "stdout",
     "output_type": "stream",
     "text": [
      "['hello']\n"
     ]
    }
   ],
   "source": [
    "match = re.findall(r'^hello', \"hello world\")\n",
    "\n",
    "print(match)"
   ]
  },
  {
   "cell_type": "code",
   "execution_count": 9,
   "id": "4f097d1f",
   "metadata": {},
   "outputs": [
    {
     "name": "stdout",
     "output_type": "stream",
     "text": [
      "[]\n"
     ]
    }
   ],
   "source": [
    "match = re.findall(r'hello$', \"hello world\")\n",
    "\n",
    "print(match)"
   ]
  },
  {
   "cell_type": "code",
   "execution_count": 10,
   "id": "eccabb05",
   "metadata": {},
   "outputs": [
    {
     "name": "stdout",
     "output_type": "stream",
     "text": [
      "['world']\n"
     ]
    }
   ],
   "source": [
    "match = re.findall(r'world$', \"hello world\")\n",
    "\n",
    "print(match)"
   ]
  },
  {
   "cell_type": "markdown",
   "id": "6b5bba67",
   "metadata": {},
   "source": [
    "### Special characters\n"
   ]
  },
  {
   "cell_type": "code",
   "execution_count": 13,
   "id": "9bad7b5d",
   "metadata": {},
   "outputs": [
    {
     "name": "stdout",
     "output_type": "stream",
     "text": [
      "['1', '1', '2']\n"
     ]
    }
   ],
   "source": [
    "match = re.findall(r'\\d', \"hello world112!\") # numbers\n",
    "\n",
    "print(match)"
   ]
  },
  {
   "cell_type": "code",
   "execution_count": 15,
   "id": "cd827d7d",
   "metadata": {},
   "outputs": [
    {
     "name": "stdout",
     "output_type": "stream",
     "text": [
      "['h', 'e', 'l', 'l', 'o', ' ', 'w', 'o', 'r', 'l', 'd', '!']\n"
     ]
    }
   ],
   "source": [
    "match = re.findall(r'\\D', \"hello world112!\") # anything but numbers\n",
    "\n",
    "print(match)"
   ]
  },
  {
   "cell_type": "code",
   "execution_count": 18,
   "id": "9813b7bd",
   "metadata": {},
   "outputs": [
    {
     "name": "stdout",
     "output_type": "stream",
     "text": [
      "['h', 'e', 'l', 'l', 'o', 'w', 'o', 'r', 'l', 'd', '1', '1', '2', '_']\n"
     ]
    }
   ],
   "source": [
    "match = re.findall(r'\\w', \"hello world112_!\") # letters, numbers and _\n",
    "\n",
    "print(match)"
   ]
  },
  {
   "cell_type": "code",
   "execution_count": 20,
   "id": "8a1195cd",
   "metadata": {},
   "outputs": [
    {
     "name": "stdout",
     "output_type": "stream",
     "text": [
      "[' ']\n"
     ]
    }
   ],
   "source": [
    "match = re.findall(r'\\s', \"hello world112_!\") # spaces, new lines, tabs\n",
    "\n",
    "print(match)"
   ]
  },
  {
   "cell_type": "code",
   "execution_count": 21,
   "id": "3992d4c1",
   "metadata": {},
   "outputs": [
    {
     "name": "stdout",
     "output_type": "stream",
     "text": [
      "['h', 'e', 'l', 'l', 'o', ' ', 'w', 'o', 'r', 'l', 'd', '1', '1', '2', '_', '!']\n"
     ]
    }
   ],
   "source": [
    "match = re.findall(r'.', \"hello world112_!\") # any characters\n",
    "\n",
    "print(match)"
   ]
  },
  {
   "cell_type": "code",
   "execution_count": 22,
   "id": "6efa0311",
   "metadata": {},
   "outputs": [
    {
     "name": "stdout",
     "output_type": "stream",
     "text": [
      "[]\n"
     ]
    }
   ],
   "source": [
    "match = re.findall(r'\\.', \"hello world112_!\") # a dot\n",
    "\n",
    "print(match)"
   ]
  },
  {
   "cell_type": "markdown",
   "id": "d02592fd",
   "metadata": {},
   "source": [
    "### Quantifiers"
   ]
  },
  {
   "cell_type": "code",
   "execution_count": 24,
   "id": "34ab3bf2",
   "metadata": {},
   "outputs": [
    {
     "name": "stdout",
     "output_type": "stream",
     "text": [
      "['hello!!!!']\n"
     ]
    }
   ],
   "source": [
    "match = re.findall(r'hello!*', \"hello!!!!\") # \"hello\" followed by 0 or more \"!\"\n",
    "\n",
    "print(match)"
   ]
  },
  {
   "cell_type": "code",
   "execution_count": 25,
   "id": "ed1d95a8",
   "metadata": {},
   "outputs": [
    {
     "name": "stdout",
     "output_type": "stream",
     "text": [
      "['hello!!!!']\n"
     ]
    }
   ],
   "source": [
    "match = re.findall(r'hello!+', \"hello!!!!\") # \"hello\" followed by 1 or more \"!\"\n",
    "\n",
    "print(match)"
   ]
  },
  {
   "cell_type": "code",
   "execution_count": 26,
   "id": "69a6bca0",
   "metadata": {},
   "outputs": [
    {
     "name": "stdout",
     "output_type": "stream",
     "text": [
      "['hello!']\n"
     ]
    }
   ],
   "source": [
    "match = re.findall(r'hello!?', \"hello!!!!\") # \"hello\" followed by 0 or 1\n",
    "\n",
    "print(match)"
   ]
  },
  {
   "cell_type": "code",
   "execution_count": 27,
   "id": "400b3fbd",
   "metadata": {},
   "outputs": [
    {
     "name": "stdout",
     "output_type": "stream",
     "text": [
      "['hello!!!!']\n"
     ]
    }
   ],
   "source": [
    "match = re.findall(r'hello!{4}', \"hello!!!!\") # \"hello\" followed by exactly 4 \"!\"\n",
    "\n",
    "print(match)"
   ]
  },
  {
   "cell_type": "markdown",
   "id": "b2ef73a8",
   "metadata": {},
   "source": [
    "### Groups"
   ]
  },
  {
   "cell_type": "code",
   "execution_count": 31,
   "id": "ee6bfeca",
   "metadata": {},
   "outputs": [
    {
     "name": "stdout",
     "output_type": "stream",
     "text": [
      "[]\n"
     ]
    }
   ],
   "source": [
    "match = re.findall(r'hello(?:!2!)+', \"hello!!!!\") # \"hello\" followed by one or more of the sequence \"!2!\"\n",
    "\n",
    "print(match)"
   ]
  },
  {
   "cell_type": "code",
   "execution_count": 32,
   "id": "5c029876",
   "metadata": {},
   "outputs": [
    {
     "name": "stdout",
     "output_type": "stream",
     "text": [
      "['hello!2!!2!!2!']\n"
     ]
    }
   ],
   "source": [
    "match = re.findall(r'hello(?:!2!)+', \"hello!2!!2!!2!\") # \"hello\" followed by one or more of the sequence \"!2!\"\n",
    "\n",
    "print(match)"
   ]
  },
  {
   "cell_type": "code",
   "execution_count": 33,
   "id": "a99d30af",
   "metadata": {},
   "outputs": [
    {
     "name": "stdout",
     "output_type": "stream",
     "text": [
      "['!2!']\n"
     ]
    }
   ],
   "source": [
    "match = re.findall(r'hello(!2!)+', \"hello!2!!2!!2!\") # the sequence grouped in the parentheses, \"!2!\"\n",
    "\n",
    "print(match)"
   ]
  },
  {
   "cell_type": "markdown",
   "id": "ebc525cc",
   "metadata": {},
   "source": [
    "### Character classes"
   ]
  },
  {
   "cell_type": "code",
   "execution_count": 34,
   "id": "14f23776",
   "metadata": {},
   "outputs": [
    {
     "name": "stdout",
     "output_type": "stream",
     "text": [
      "['a', 'b']\n"
     ]
    }
   ],
   "source": [
    "match = re.findall(r'[ab]', \"Dear brother\") \n",
    "\n",
    "print(match)"
   ]
  },
  {
   "cell_type": "code",
   "execution_count": 37,
   "id": "fdc29db6",
   "metadata": {},
   "outputs": [
    {
     "name": "stdout",
     "output_type": "stream",
     "text": [
      "['D', 'e', 'r', ' ', 'r', 'o', 't', 'h', 'e', 'r']\n"
     ]
    }
   ],
   "source": [
    "match = re.findall(r'[^ab]', \"Dear brother\") \n",
    "\n",
    "print(match)"
   ]
  },
  {
   "cell_type": "code",
   "execution_count": 38,
   "id": "499e1849",
   "metadata": {},
   "outputs": [
    {
     "name": "stdout",
     "output_type": "stream",
     "text": [
      "['Hello']\n"
     ]
    }
   ],
   "source": [
    "match = re.findall(r'[Hh]ello', \"Hello\") \n",
    "\n",
    "print(match)"
   ]
  },
  {
   "cell_type": "code",
   "execution_count": 39,
   "id": "935221e1",
   "metadata": {},
   "outputs": [
    {
     "name": "stdout",
     "output_type": "stream",
     "text": [
      "[]\n"
     ]
    }
   ],
   "source": [
    "match = re.findall(r'[Hh]ello', \"jello\") \n",
    "\n",
    "print(match)"
   ]
  },
  {
   "cell_type": "code",
   "execution_count": 40,
   "id": "965b4eee",
   "metadata": {},
   "outputs": [
    {
     "name": "stdout",
     "output_type": "stream",
     "text": [
      "['jello']\n"
     ]
    }
   ],
   "source": [
    "match = re.findall(r'[^Hh]ello', \"jello\") \n",
    "\n",
    "print(match)"
   ]
  },
  {
   "cell_type": "code",
   "execution_count": 35,
   "id": "74031dfd",
   "metadata": {},
   "outputs": [
    {
     "name": "stdout",
     "output_type": "stream",
     "text": [
      "['5', '3']\n"
     ]
    }
   ],
   "source": [
    "match = re.findall(r'[1-7]', \"I leave at 5:30\") \n",
    "\n",
    "print(match)"
   ]
  },
  {
   "cell_type": "code",
   "execution_count": 36,
   "id": "b8137a4b",
   "metadata": {},
   "outputs": [
    {
     "name": "stdout",
     "output_type": "stream",
     "text": [
      "['I', 'l', 'e', 'a', 'v', 'e', 'a', 't']\n"
     ]
    }
   ],
   "source": [
    "match = re.findall(r'[a-zA-Z]', \"I leave at 5:30\") \n",
    "\n",
    "print(match)"
   ]
  },
  {
   "cell_type": "markdown",
   "id": "7ffe282f",
   "metadata": {},
   "source": [
    "#### re.sub()\n",
    "Replaces one or many matches with a string"
   ]
  },
  {
   "cell_type": "code",
   "execution_count": 42,
   "id": "485561b9",
   "metadata": {},
   "outputs": [
    {
     "name": "stdout",
     "output_type": "stream",
     "text": [
      "Goodbye world!\n"
     ]
    }
   ],
   "source": [
    "match = re.sub(r'Hello',\"Goodbye\", \"Hello world!\") \n",
    "\n",
    "print(match)"
   ]
  },
  {
   "cell_type": "code",
   "execution_count": null,
   "id": "6858957e",
   "metadata": {},
   "outputs": [],
   "source": []
  }
 ],
 "metadata": {
  "kernelspec": {
   "display_name": "Python 3",
   "language": "python",
   "name": "python3"
  },
  "language_info": {
   "codemirror_mode": {
    "name": "ipython",
    "version": 3
   },
   "file_extension": ".py",
   "mimetype": "text/x-python",
   "name": "python",
   "nbconvert_exporter": "python",
   "pygments_lexer": "ipython3",
   "version": "3.8.8"
  }
 },
 "nbformat": 4,
 "nbformat_minor": 5
}
