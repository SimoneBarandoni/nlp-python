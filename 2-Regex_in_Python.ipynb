{
 "cells": [
  {
   "cell_type": "markdown",
   "id": "64286877",
   "metadata": {},
   "source": [
    "## Regular Expressions"
   ]
  },
  {
   "cell_type": "code",
   "execution_count": null,
   "id": "318617dd",
   "metadata": {},
   "outputs": [],
   "source": [
    "import re"
   ]
  },
  {
   "cell_type": "markdown",
   "id": "2c118277",
   "metadata": {},
   "source": [
    "#### re.search()\n",
    "Returns a Match Object if there is a match anywhere in the string"
   ]
  },
  {
   "cell_type": "code",
   "execution_count": null,
   "id": "6a2894f6",
   "metadata": {},
   "outputs": [],
   "source": [
    "match = re.search(r'hello', \"hello world\")\n",
    "\n",
    "if match: # this means: if match exists\n",
    "    print(\"Yes\")\n",
    "else:\n",
    "    print(\"No\")\n",
    "    \n",
    "match = re.search(r'hello', \"Hello world\")\n",
    "\n",
    "if match: \n",
    "    print(\"Yes\")\n",
    "else:\n",
    "    print(\"No\")"
   ]
  },
  {
   "cell_type": "markdown",
   "id": "2407fbb7",
   "metadata": {},
   "source": [
    "#### re.findall()\n",
    "Returns a list containing all matches"
   ]
  },
  {
   "cell_type": "code",
   "execution_count": null,
   "id": "394fb33f",
   "metadata": {},
   "outputs": [],
   "source": [
    "match = re.findall(r'hello', \"hello world\")\n",
    "\n",
    "print(match)"
   ]
  },
  {
   "cell_type": "code",
   "execution_count": null,
   "id": "e8cad6f9",
   "metadata": {},
   "outputs": [],
   "source": [
    "match = re.findall(r'o', \"hello world\")\n",
    "\n",
    "print(match)"
   ]
  },
  {
   "cell_type": "code",
   "execution_count": null,
   "id": "aa410aa6",
   "metadata": {},
   "outputs": [],
   "source": [
    "match = re.findall(r'a', \"hello world\")\n",
    "\n",
    "print(match)"
   ]
  },
  {
   "cell_type": "markdown",
   "id": "51e2a02e",
   "metadata": {},
   "source": [
    "### Anchors: start and end of strings"
   ]
  },
  {
   "cell_type": "code",
   "execution_count": null,
   "id": "bac813ba",
   "metadata": {},
   "outputs": [],
   "source": [
    "match = re.findall(r'^hello', \"hello world\")\n",
    "\n",
    "print(match)"
   ]
  },
  {
   "cell_type": "code",
   "execution_count": null,
   "id": "4f097d1f",
   "metadata": {},
   "outputs": [],
   "source": [
    "match = re.findall(r'hello$', \"hello world\")\n",
    "\n",
    "print(match)"
   ]
  },
  {
   "cell_type": "code",
   "execution_count": null,
   "id": "eccabb05",
   "metadata": {},
   "outputs": [],
   "source": [
    "match = re.findall(r'world$', \"hello world\")\n",
    "\n",
    "print(match)"
   ]
  },
  {
   "cell_type": "markdown",
   "id": "6b5bba67",
   "metadata": {},
   "source": [
    "### Special characters\n"
   ]
  },
  {
   "cell_type": "code",
   "execution_count": null,
   "id": "9bad7b5d",
   "metadata": {},
   "outputs": [],
   "source": [
    "match = re.findall(r'\\d', \"hello world112!\") # numbers\n",
    "\n",
    "print(match)"
   ]
  },
  {
   "cell_type": "code",
   "execution_count": null,
   "id": "cd827d7d",
   "metadata": {},
   "outputs": [],
   "source": [
    "match = re.findall(r'\\D', \"hello world112!\") # anything but numbers\n",
    "\n",
    "print(match)"
   ]
  },
  {
   "cell_type": "code",
   "execution_count": null,
   "id": "9813b7bd",
   "metadata": {},
   "outputs": [],
   "source": [
    "match = re.findall(r'\\w', \"hello world112_!\") # letters, numbers and _\n",
    "\n",
    "print(match)"
   ]
  },
  {
   "cell_type": "code",
   "execution_count": null,
   "id": "8a1195cd",
   "metadata": {},
   "outputs": [],
   "source": [
    "match = re.findall(r'\\s', \"hello world112_!\") # spaces, new lines, tabs\n",
    "\n",
    "print(match)"
   ]
  },
  {
   "cell_type": "code",
   "execution_count": null,
   "id": "3992d4c1",
   "metadata": {},
   "outputs": [],
   "source": [
    "match = re.findall(r'.', \"hello world112_!\") # any characters\n",
    "\n",
    "print(match)"
   ]
  },
  {
   "cell_type": "code",
   "execution_count": null,
   "id": "6efa0311",
   "metadata": {},
   "outputs": [],
   "source": [
    "match = re.findall(r'\\.', \"hello world112_!\") # a dot\n",
    "\n",
    "print(match)"
   ]
  },
  {
   "cell_type": "markdown",
   "id": "d02592fd",
   "metadata": {},
   "source": [
    "### Quantifiers"
   ]
  },
  {
   "cell_type": "code",
   "execution_count": null,
   "id": "34ab3bf2",
   "metadata": {},
   "outputs": [],
   "source": [
    "match = re.findall(r'hello!*', \"hello!!!!\") # \"hello\" followed by 0 or more \"!\"\n",
    "\n",
    "print(match)"
   ]
  },
  {
   "cell_type": "code",
   "execution_count": null,
   "id": "ed1d95a8",
   "metadata": {},
   "outputs": [],
   "source": [
    "match = re.findall(r'hello!+', \"hello!!!!\") # \"hello\" followed by 1 or more \"!\"\n",
    "\n",
    "print(match)"
   ]
  },
  {
   "cell_type": "code",
   "execution_count": null,
   "id": "69a6bca0",
   "metadata": {},
   "outputs": [],
   "source": [
    "match = re.findall(r'hello!?', \"hello!!!!\") # \"hello\" followed by 0 or 1\n",
    "\n",
    "print(match)"
   ]
  },
  {
   "cell_type": "code",
   "execution_count": null,
   "id": "400b3fbd",
   "metadata": {},
   "outputs": [],
   "source": [
    "match = re.findall(r'hello!{4}', \"hello!!!!\") # \"hello\" followed by exactly 4 \"!\"\n",
    "\n",
    "print(match)"
   ]
  },
  {
   "cell_type": "markdown",
   "id": "b2ef73a8",
   "metadata": {},
   "source": [
    "### Groups"
   ]
  },
  {
   "cell_type": "code",
   "execution_count": null,
   "id": "ee6bfeca",
   "metadata": {},
   "outputs": [],
   "source": [
    "match = re.findall(r'hello(?:!2!)+', \"hello!!!!\") # \"hello\" followed by one or more of the sequence \"!2!\; ?: is the non-capturing group"\n",
    "\n",
    "print(match)"
   ]
  },
  {
   "cell_type": "code",
   "execution_count": null,
   "id": "5c029876",
   "metadata": {},
   "outputs": [],
   "source": [
    "match = re.findall(r'hello(?:!2!)+', \"hello!2!!2!!2!\") # \"hello\" followed by one or more of the sequence \"!2!\"\n",
    "\n",
    "print(match)"
   ]
  },
  {
   "cell_type": "code",
   "execution_count": null,
   "id": "a99d30af",
   "metadata": {},
   "outputs": [],
   "source": [
    "match = re.findall(r'hello(!2!)+', \"hello!2!!2!!2!\") # the sequence grouped in the parentheses, \"!2!\"\n",
    "\n",
    "print(match)"
   ]
  },
  {
   "cell_type": "markdown",
   "id": "ebc525cc",
   "metadata": {},
   "source": [
    "### Character classes"
   ]
  },
  {
   "cell_type": "code",
   "execution_count": null,
   "id": "14f23776",
   "metadata": {},
   "outputs": [],
   "source": [
    "match = re.findall(r'[ab]', \"Dear brother\") \n",
    "\n",
    "print(match)"
   ]
  },
  {
   "cell_type": "code",
   "execution_count": null,
   "id": "fdc29db6",
   "metadata": {},
   "outputs": [],
   "source": [
    "match = re.findall(r'[^ab]', \"Dear brother\") \n",
    "\n",
    "print(match)"
   ]
  },
  {
   "cell_type": "code",
   "execution_count": null,
   "id": "499e1849",
   "metadata": {},
   "outputs": [],
   "source": [
    "match = re.findall(r'[Hh]ello', \"Hello\") \n",
    "\n",
    "print(match)"
   ]
  },
  {
   "cell_type": "code",
   "execution_count": null,
   "id": "935221e1",
   "metadata": {},
   "outputs": [],
   "source": [
    "match = re.findall(r'[Hh]ello', \"jello\") \n",
    "\n",
    "print(match)"
   ]
  },
  {
   "cell_type": "code",
   "execution_count": null,
   "id": "965b4eee",
   "metadata": {},
   "outputs": [],
   "source": [
    "match = re.findall(r'[^Hh]ello', \"jello\") \n",
    "\n",
    "print(match)"
   ]
  },
  {
   "cell_type": "code",
   "execution_count": null,
   "id": "74031dfd",
   "metadata": {},
   "outputs": [],
   "source": [
    "match = re.findall(r'[1-7]', \"I leave at 5:30\") \n",
    "\n",
    "print(match)"
   ]
  },
  {
   "cell_type": "code",
   "execution_count": null,
   "id": "b8137a4b",
   "metadata": {},
   "outputs": [],
   "source": [
    "match = re.findall(r'[a-zA-Z]', \"I leave at 5:30\") \n",
    "\n",
    "print(match)"
   ]
  },
  {
   "cell_type": "markdown",
   "id": "7ffe282f",
   "metadata": {},
   "source": [
    "#### re.sub()\n",
    "Replaces one or many matches with a string"
   ]
  },
  {
   "cell_type": "code",
   "execution_count": null,
   "id": "485561b9",
   "metadata": {},
   "outputs": [],
   "source": [
    "match = re.sub(r'Hello',\"Goodbye\", \"Hello world!\") \n",
    "\n",
    "print(match)"
   ]
  },
  {
   "cell_type": "code",
   "execution_count": null,
   "id": "6858957e",
   "metadata": {},
   "outputs": [],
   "source": []
  }
 ],
 "metadata": {
  "kernelspec": {
   "display_name": "Python 3",
   "language": "python",
   "name": "python3"
  },
  "language_info": {
   "codemirror_mode": {
    "name": "ipython",
    "version": 3
   },
   "file_extension": ".py",
   "mimetype": "text/x-python",
   "name": "python",
   "nbconvert_exporter": "python",
   "pygments_lexer": "ipython3",
   "version": "3.8.8"
  }
 },
 "nbformat": 4,
 "nbformat_minor": 5
}
