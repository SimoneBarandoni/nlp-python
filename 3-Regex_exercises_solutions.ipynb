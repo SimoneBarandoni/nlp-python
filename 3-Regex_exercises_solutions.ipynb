{
 "cells": [
  {
   "cell_type": "markdown",
   "id": "e937a57f",
   "metadata": {},
   "source": [
    "### Exercises 1: Regex"
   ]
  },
  {
   "cell_type": "code",
   "execution_count": null,
   "id": "c2e04866",
   "metadata": {},
   "outputs": [],
   "source": [
    "import re"
   ]
  },
  {
   "cell_type": "markdown",
   "id": "5cf0b343",
   "metadata": {},
   "source": [
    "Match all the vowels:"
   ]
  },
  {
   "cell_type": "code",
   "execution_count": null,
   "id": "87a01f9e",
   "metadata": {},
   "outputs": [],
   "source": [
    "match = re.findall(r'[eaiouEAIOU]', \"Goodbye World\") \n",
    "\n",
    "print(match)"
   ]
  },
  {
   "cell_type": "markdown",
   "id": "136cef37",
   "metadata": {},
   "source": [
    "Match words starting with a consonant:"
   ]
  },
  {
   "cell_type": "code",
   "execution_count": null,
   "id": "0c3b5209",
   "metadata": {},
   "outputs": [],
   "source": [
    "match = re.findall(r'[BbCcDdFfGgJjKkLlMmNnPpQqSsTtVvXxZzHhRrWwYy]\\w+', \"Goodbye World hello\") \n",
    "\n",
    "print(match)"
   ]
  },
  {
   "cell_type": "markdown",
   "id": "bd713116",
   "metadata": {},
   "source": [
    "Match words ending with a punctuation mark"
   ]
  },
  {
   "cell_type": "code",
   "execution_count": null,
   "id": "a3c80d4c",
   "metadata": {},
   "outputs": [],
   "source": [
    "match = re.findall(r'\\w+[;,.:!?\"]', \"I am going to the library, will you join me?\") \n",
    "\n",
    "print(match)"
   ]
  },
  {
   "cell_type": "markdown",
   "id": "849d207d",
   "metadata": {},
   "source": [
    "Match strings (and sub-strings) starting with \"go\" or \"ha\""
   ]
  },
  {
   "cell_type": "code",
   "execution_count": 6,
   "id": "7bebd2cc",
   "metadata": {},
   "outputs": [
    {
     "name": "stdout",
     "output_type": "stream",
     "text": [
      "['going to the library', 'have dinner later']\n"
     ]
    }
   ],
   "source": [
    "match = re.findall(r'(?:go|ha)[\\w ]+', \"I am going to the library, will you join me? I'll have dinner later\") \n",
    "\n",
    "print(match)"
   ]
  },
  {
   "cell_type": "markdown",
   "id": "0867c16f",
   "metadata": {},
   "source": [
    "Substitute something in a string in order to have each word written on a new line"
   ]
  },
  {
   "cell_type": "code",
   "execution_count": null,
   "id": "7fd4f63f",
   "metadata": {},
   "outputs": [],
   "source": [
    "new_string = re.sub(r'\\s', \"\\n\",\"I am going to the library, will you join me? I'll have dinner later\") \n",
    "\n",
    "print(new_string)"
   ]
  },
  {
   "cell_type": "code",
   "execution_count": null,
   "id": "681c4c16",
   "metadata": {},
   "outputs": [],
   "source": []
  }
 ],
 "metadata": {
  "kernelspec": {
   "display_name": "Python 3",
   "language": "python",
   "name": "python3"
  },
  "language_info": {
   "codemirror_mode": {
    "name": "ipython",
    "version": 3
   },
   "file_extension": ".py",
   "mimetype": "text/x-python",
   "name": "python",
   "nbconvert_exporter": "python",
   "pygments_lexer": "ipython3",
   "version": "3.8.8"
  }
 },
 "nbformat": 4,
 "nbformat_minor": 5
}
